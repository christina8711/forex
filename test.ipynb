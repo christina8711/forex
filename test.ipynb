{
 "cells": [
  {
   "cell_type": "code",
   "execution_count": 106,
   "metadata": {},
   "outputs": [],
   "source": [
    "import requests\n",
    "import defs\n",
    "import pandas as pd"
   ]
  },
  {
   "cell_type": "code",
   "execution_count": 107,
   "metadata": {},
   "outputs": [],
   "source": [
    "session = requests.Session()"
   ]
  },
  {
   "cell_type": "code",
   "execution_count": 108,
   "metadata": {},
   "outputs": [],
   "source": [
    "instrument = \"EUR_USD\"\n",
    "count = 10\n",
    "granularity = \"H1\""
   ]
  },
  {
   "cell_type": "code",
   "execution_count": 109,
   "metadata": {},
   "outputs": [],
   "source": [
    "url = f\"{defs.OANDA_URL}/instruments/{instrument}/candles\""
   ]
  },
  {
   "cell_type": "code",
   "execution_count": 110,
   "metadata": {},
   "outputs": [
    {
     "data": {
      "text/plain": [
       "'https://api-fxpractice.oanda.com/v3/instruments/EUR_USD/candles'"
      ]
     },
     "execution_count": 110,
     "metadata": {},
     "output_type": "execute_result"
    }
   ],
   "source": [
    "url"
   ]
  },
  {
   "cell_type": "code",
   "execution_count": 111,
   "metadata": {},
   "outputs": [],
   "source": [
    "params = dict(\n",
    "    count = count,\n",
    "    granularity = granularity,\n",
    "    price = \"MBA\"\n",
    ")"
   ]
  },
  {
   "cell_type": "code",
   "execution_count": 112,
   "metadata": {},
   "outputs": [
    {
     "data": {
      "text/plain": [
       "{'count': 10, 'granularity': 'H1', 'price': 'MBA'}"
      ]
     },
     "execution_count": 112,
     "metadata": {},
     "output_type": "execute_result"
    }
   ],
   "source": [
    "params"
   ]
  },
  {
   "cell_type": "code",
   "execution_count": 113,
   "metadata": {},
   "outputs": [],
   "source": [
    "response = session.get(url, params=params, headers=defs.SECURE_HEADER)"
   ]
  },
  {
   "cell_type": "code",
   "execution_count": 114,
   "metadata": {},
   "outputs": [
    {
     "data": {
      "text/plain": [
       "200"
      ]
     },
     "execution_count": 114,
     "metadata": {},
     "output_type": "execute_result"
    }
   ],
   "source": [
    "response.status_code"
   ]
  },
  {
   "cell_type": "code",
   "execution_count": 115,
   "metadata": {},
   "outputs": [],
   "source": [
    "data = response.json()"
   ]
  },
  {
   "cell_type": "code",
   "execution_count": 116,
   "metadata": {},
   "outputs": [
    {
     "data": {
      "text/plain": [
       "dict_keys(['instrument', 'granularity', 'candles'])"
      ]
     },
     "execution_count": 116,
     "metadata": {},
     "output_type": "execute_result"
    }
   ],
   "source": [
    "data.keys()"
   ]
  },
  {
   "cell_type": "code",
   "execution_count": 117,
   "metadata": {},
   "outputs": [
    {
     "data": {
      "text/plain": [
       "10"
      ]
     },
     "execution_count": 117,
     "metadata": {},
     "output_type": "execute_result"
    }
   ],
   "source": [
    "len(data['candles'])"
   ]
  },
  {
   "cell_type": "code",
   "execution_count": 118,
   "metadata": {},
   "outputs": [],
   "source": [
    "prices = ['mid', 'bid', 'ask']\n",
    "ohlc = ['o', 'h', 'l']"
   ]
  },
  {
   "cell_type": "code",
   "execution_count": 119,
   "metadata": {},
   "outputs": [
    {
     "name": "stdout",
     "output_type": "stream",
     "text": [
      "mid_o\n",
      "mid_h\n",
      "mid_l\n",
      "bid_o\n",
      "bid_h\n",
      "bid_l\n",
      "ask_o\n",
      "ask_h\n",
      "ask_l\n"
     ]
    }
   ],
   "source": [
    "for price in prices:\n",
    "    for oh in ohlc:\n",
    "        print(f\"{price}_{oh}\")"
   ]
  },
  {
   "cell_type": "code",
   "execution_count": 120,
   "metadata": {},
   "outputs": [
    {
     "data": {
      "text/plain": [
       "'1.08785'"
      ]
     },
     "execution_count": 120,
     "metadata": {},
     "output_type": "execute_result"
    }
   ],
   "source": [
    "data['candles'][0]['bid']['o']"
   ]
  },
  {
   "cell_type": "code",
   "execution_count": 121,
   "metadata": {},
   "outputs": [
    {
     "name": "stdout",
     "output_type": "stream",
     "text": [
      "{'time': '2023-01-27T12:00:00.000000000Z', 'volume': 4142, 'mid_o': '1.08792', 'mid_h': '1.08808', 'mid_l': '1.08664', 'bid_o': '1.08785', 'bid_h': '1.08801', 'bid_l': '1.08657', 'ask_o': '1.08798', 'ask_h': '1.08816', 'ask_l': '1.08671'}\n"
     ]
    }
   ],
   "source": [
    "our_data = []\n",
    "for candle in data['candles']:\n",
    "    if candle['complete'] == False:\n",
    "        continue\n",
    "    new_dict = {}\n",
    "    new_dict['time'] = candle['time']\n",
    "    new_dict['volume'] = candle['volume']\n",
    "    for price in prices:\n",
    "        for oh in ohlc:\n",
    "            new_dict [f\"{price}_{oh}\"] = candle[price][oh]\n",
    "    our_data.append(new_dict)\n",
    "print(our_data[0])    \n"
   ]
  },
  {
   "cell_type": "code",
   "execution_count": 122,
   "metadata": {},
   "outputs": [],
   "source": [
    "candles_df = pd.DataFrame.from_dict(our_data)"
   ]
  },
  {
   "cell_type": "code",
   "execution_count": 123,
   "metadata": {},
   "outputs": [
    {
     "data": {
      "text/html": [
       "<div>\n",
       "<style scoped>\n",
       "    .dataframe tbody tr th:only-of-type {\n",
       "        vertical-align: middle;\n",
       "    }\n",
       "\n",
       "    .dataframe tbody tr th {\n",
       "        vertical-align: top;\n",
       "    }\n",
       "\n",
       "    .dataframe thead th {\n",
       "        text-align: right;\n",
       "    }\n",
       "</style>\n",
       "<table border=\"1\" class=\"dataframe\">\n",
       "  <thead>\n",
       "    <tr style=\"text-align: right;\">\n",
       "      <th></th>\n",
       "      <th>time</th>\n",
       "      <th>volume</th>\n",
       "      <th>mid_o</th>\n",
       "      <th>mid_h</th>\n",
       "      <th>mid_l</th>\n",
       "      <th>bid_o</th>\n",
       "      <th>bid_h</th>\n",
       "      <th>bid_l</th>\n",
       "      <th>ask_o</th>\n",
       "      <th>ask_h</th>\n",
       "      <th>ask_l</th>\n",
       "    </tr>\n",
       "  </thead>\n",
       "  <tbody>\n",
       "    <tr>\n",
       "      <th>0</th>\n",
       "      <td>2023-01-27T12:00:00.000000000Z</td>\n",
       "      <td>4142</td>\n",
       "      <td>1.08792</td>\n",
       "      <td>1.08808</td>\n",
       "      <td>1.08664</td>\n",
       "      <td>1.08785</td>\n",
       "      <td>1.08801</td>\n",
       "      <td>1.08657</td>\n",
       "      <td>1.08798</td>\n",
       "      <td>1.08816</td>\n",
       "      <td>1.08671</td>\n",
       "    </tr>\n",
       "    <tr>\n",
       "      <th>1</th>\n",
       "      <td>2023-01-27T13:00:00.000000000Z</td>\n",
       "      <td>8206</td>\n",
       "      <td>1.08668</td>\n",
       "      <td>1.08778</td>\n",
       "      <td>1.08594</td>\n",
       "      <td>1.08660</td>\n",
       "      <td>1.08771</td>\n",
       "      <td>1.08587</td>\n",
       "      <td>1.08675</td>\n",
       "      <td>1.08786</td>\n",
       "      <td>1.08601</td>\n",
       "    </tr>\n",
       "    <tr>\n",
       "      <th>2</th>\n",
       "      <td>2023-01-27T14:00:00.000000000Z</td>\n",
       "      <td>10729</td>\n",
       "      <td>1.08622</td>\n",
       "      <td>1.08769</td>\n",
       "      <td>1.08453</td>\n",
       "      <td>1.08614</td>\n",
       "      <td>1.08762</td>\n",
       "      <td>1.08445</td>\n",
       "      <td>1.08631</td>\n",
       "      <td>1.08776</td>\n",
       "      <td>1.08461</td>\n",
       "    </tr>\n",
       "    <tr>\n",
       "      <th>3</th>\n",
       "      <td>2023-01-27T15:00:00.000000000Z</td>\n",
       "      <td>11955</td>\n",
       "      <td>1.08653</td>\n",
       "      <td>1.08792</td>\n",
       "      <td>1.08379</td>\n",
       "      <td>1.08641</td>\n",
       "      <td>1.08784</td>\n",
       "      <td>1.08372</td>\n",
       "      <td>1.08665</td>\n",
       "      <td>1.08800</td>\n",
       "      <td>1.08386</td>\n",
       "    </tr>\n",
       "    <tr>\n",
       "      <th>4</th>\n",
       "      <td>2023-01-27T16:00:00.000000000Z</td>\n",
       "      <td>7433</td>\n",
       "      <td>1.08386</td>\n",
       "      <td>1.08674</td>\n",
       "      <td>1.08382</td>\n",
       "      <td>1.08380</td>\n",
       "      <td>1.08667</td>\n",
       "      <td>1.08375</td>\n",
       "      <td>1.08393</td>\n",
       "      <td>1.08682</td>\n",
       "      <td>1.08388</td>\n",
       "    </tr>\n",
       "    <tr>\n",
       "      <th>5</th>\n",
       "      <td>2023-01-27T17:00:00.000000000Z</td>\n",
       "      <td>4626</td>\n",
       "      <td>1.08565</td>\n",
       "      <td>1.08719</td>\n",
       "      <td>1.08526</td>\n",
       "      <td>1.08557</td>\n",
       "      <td>1.08712</td>\n",
       "      <td>1.08519</td>\n",
       "      <td>1.08573</td>\n",
       "      <td>1.08726</td>\n",
       "      <td>1.08533</td>\n",
       "    </tr>\n",
       "    <tr>\n",
       "      <th>6</th>\n",
       "      <td>2023-01-27T18:00:00.000000000Z</td>\n",
       "      <td>3452</td>\n",
       "      <td>1.08665</td>\n",
       "      <td>1.08677</td>\n",
       "      <td>1.08564</td>\n",
       "      <td>1.08658</td>\n",
       "      <td>1.08671</td>\n",
       "      <td>1.08556</td>\n",
       "      <td>1.08672</td>\n",
       "      <td>1.08685</td>\n",
       "      <td>1.08571</td>\n",
       "    </tr>\n",
       "    <tr>\n",
       "      <th>7</th>\n",
       "      <td>2023-01-27T19:00:00.000000000Z</td>\n",
       "      <td>2813</td>\n",
       "      <td>1.08658</td>\n",
       "      <td>1.08724</td>\n",
       "      <td>1.08642</td>\n",
       "      <td>1.08651</td>\n",
       "      <td>1.08717</td>\n",
       "      <td>1.08635</td>\n",
       "      <td>1.08665</td>\n",
       "      <td>1.08732</td>\n",
       "      <td>1.08650</td>\n",
       "    </tr>\n",
       "    <tr>\n",
       "      <th>8</th>\n",
       "      <td>2023-01-27T20:00:00.000000000Z</td>\n",
       "      <td>1981</td>\n",
       "      <td>1.08686</td>\n",
       "      <td>1.08730</td>\n",
       "      <td>1.08642</td>\n",
       "      <td>1.08678</td>\n",
       "      <td>1.08723</td>\n",
       "      <td>1.08634</td>\n",
       "      <td>1.08694</td>\n",
       "      <td>1.08737</td>\n",
       "      <td>1.08648</td>\n",
       "    </tr>\n",
       "    <tr>\n",
       "      <th>9</th>\n",
       "      <td>2023-01-27T21:00:00.000000000Z</td>\n",
       "      <td>1385</td>\n",
       "      <td>1.08653</td>\n",
       "      <td>1.08695</td>\n",
       "      <td>1.08651</td>\n",
       "      <td>1.08646</td>\n",
       "      <td>1.08685</td>\n",
       "      <td>1.08643</td>\n",
       "      <td>1.08660</td>\n",
       "      <td>1.08716</td>\n",
       "      <td>1.08659</td>\n",
       "    </tr>\n",
       "  </tbody>\n",
       "</table>\n",
       "</div>"
      ],
      "text/plain": [
       "                             time  volume    mid_o    mid_h    mid_l    bid_o  \\\n",
       "0  2023-01-27T12:00:00.000000000Z    4142  1.08792  1.08808  1.08664  1.08785   \n",
       "1  2023-01-27T13:00:00.000000000Z    8206  1.08668  1.08778  1.08594  1.08660   \n",
       "2  2023-01-27T14:00:00.000000000Z   10729  1.08622  1.08769  1.08453  1.08614   \n",
       "3  2023-01-27T15:00:00.000000000Z   11955  1.08653  1.08792  1.08379  1.08641   \n",
       "4  2023-01-27T16:00:00.000000000Z    7433  1.08386  1.08674  1.08382  1.08380   \n",
       "5  2023-01-27T17:00:00.000000000Z    4626  1.08565  1.08719  1.08526  1.08557   \n",
       "6  2023-01-27T18:00:00.000000000Z    3452  1.08665  1.08677  1.08564  1.08658   \n",
       "7  2023-01-27T19:00:00.000000000Z    2813  1.08658  1.08724  1.08642  1.08651   \n",
       "8  2023-01-27T20:00:00.000000000Z    1981  1.08686  1.08730  1.08642  1.08678   \n",
       "9  2023-01-27T21:00:00.000000000Z    1385  1.08653  1.08695  1.08651  1.08646   \n",
       "\n",
       "     bid_h    bid_l    ask_o    ask_h    ask_l  \n",
       "0  1.08801  1.08657  1.08798  1.08816  1.08671  \n",
       "1  1.08771  1.08587  1.08675  1.08786  1.08601  \n",
       "2  1.08762  1.08445  1.08631  1.08776  1.08461  \n",
       "3  1.08784  1.08372  1.08665  1.08800  1.08386  \n",
       "4  1.08667  1.08375  1.08393  1.08682  1.08388  \n",
       "5  1.08712  1.08519  1.08573  1.08726  1.08533  \n",
       "6  1.08671  1.08556  1.08672  1.08685  1.08571  \n",
       "7  1.08717  1.08635  1.08665  1.08732  1.08650  \n",
       "8  1.08723  1.08634  1.08694  1.08737  1.08648  \n",
       "9  1.08685  1.08643  1.08660  1.08716  1.08659  "
      ]
     },
     "execution_count": 123,
     "metadata": {},
     "output_type": "execute_result"
    }
   ],
   "source": [
    "candles_df"
   ]
  },
  {
   "cell_type": "code",
   "execution_count": 124,
   "metadata": {},
   "outputs": [],
   "source": [
    "candles_df.to_pickle(\"EUR_USD_H1.pk1\")"
   ]
  },
  {
   "cell_type": "code",
   "execution_count": 125,
   "metadata": {},
   "outputs": [],
   "source": [
    "test_df = pd.read_pickle(\"EUR_USD_H1.pk1\")"
   ]
  },
  {
   "cell_type": "code",
   "execution_count": 126,
   "metadata": {},
   "outputs": [
    {
     "data": {
      "text/html": [
       "<div>\n",
       "<style scoped>\n",
       "    .dataframe tbody tr th:only-of-type {\n",
       "        vertical-align: middle;\n",
       "    }\n",
       "\n",
       "    .dataframe tbody tr th {\n",
       "        vertical-align: top;\n",
       "    }\n",
       "\n",
       "    .dataframe thead th {\n",
       "        text-align: right;\n",
       "    }\n",
       "</style>\n",
       "<table border=\"1\" class=\"dataframe\">\n",
       "  <thead>\n",
       "    <tr style=\"text-align: right;\">\n",
       "      <th></th>\n",
       "      <th>time</th>\n",
       "      <th>volume</th>\n",
       "      <th>mid_o</th>\n",
       "      <th>mid_h</th>\n",
       "      <th>mid_l</th>\n",
       "      <th>bid_o</th>\n",
       "      <th>bid_h</th>\n",
       "      <th>bid_l</th>\n",
       "      <th>ask_o</th>\n",
       "      <th>ask_h</th>\n",
       "      <th>ask_l</th>\n",
       "    </tr>\n",
       "  </thead>\n",
       "  <tbody>\n",
       "    <tr>\n",
       "      <th>0</th>\n",
       "      <td>2023-01-27T12:00:00.000000000Z</td>\n",
       "      <td>4142</td>\n",
       "      <td>1.08792</td>\n",
       "      <td>1.08808</td>\n",
       "      <td>1.08664</td>\n",
       "      <td>1.08785</td>\n",
       "      <td>1.08801</td>\n",
       "      <td>1.08657</td>\n",
       "      <td>1.08798</td>\n",
       "      <td>1.08816</td>\n",
       "      <td>1.08671</td>\n",
       "    </tr>\n",
       "    <tr>\n",
       "      <th>1</th>\n",
       "      <td>2023-01-27T13:00:00.000000000Z</td>\n",
       "      <td>8206</td>\n",
       "      <td>1.08668</td>\n",
       "      <td>1.08778</td>\n",
       "      <td>1.08594</td>\n",
       "      <td>1.08660</td>\n",
       "      <td>1.08771</td>\n",
       "      <td>1.08587</td>\n",
       "      <td>1.08675</td>\n",
       "      <td>1.08786</td>\n",
       "      <td>1.08601</td>\n",
       "    </tr>\n",
       "    <tr>\n",
       "      <th>2</th>\n",
       "      <td>2023-01-27T14:00:00.000000000Z</td>\n",
       "      <td>10729</td>\n",
       "      <td>1.08622</td>\n",
       "      <td>1.08769</td>\n",
       "      <td>1.08453</td>\n",
       "      <td>1.08614</td>\n",
       "      <td>1.08762</td>\n",
       "      <td>1.08445</td>\n",
       "      <td>1.08631</td>\n",
       "      <td>1.08776</td>\n",
       "      <td>1.08461</td>\n",
       "    </tr>\n",
       "    <tr>\n",
       "      <th>3</th>\n",
       "      <td>2023-01-27T15:00:00.000000000Z</td>\n",
       "      <td>11955</td>\n",
       "      <td>1.08653</td>\n",
       "      <td>1.08792</td>\n",
       "      <td>1.08379</td>\n",
       "      <td>1.08641</td>\n",
       "      <td>1.08784</td>\n",
       "      <td>1.08372</td>\n",
       "      <td>1.08665</td>\n",
       "      <td>1.08800</td>\n",
       "      <td>1.08386</td>\n",
       "    </tr>\n",
       "    <tr>\n",
       "      <th>4</th>\n",
       "      <td>2023-01-27T16:00:00.000000000Z</td>\n",
       "      <td>7433</td>\n",
       "      <td>1.08386</td>\n",
       "      <td>1.08674</td>\n",
       "      <td>1.08382</td>\n",
       "      <td>1.08380</td>\n",
       "      <td>1.08667</td>\n",
       "      <td>1.08375</td>\n",
       "      <td>1.08393</td>\n",
       "      <td>1.08682</td>\n",
       "      <td>1.08388</td>\n",
       "    </tr>\n",
       "    <tr>\n",
       "      <th>5</th>\n",
       "      <td>2023-01-27T17:00:00.000000000Z</td>\n",
       "      <td>4626</td>\n",
       "      <td>1.08565</td>\n",
       "      <td>1.08719</td>\n",
       "      <td>1.08526</td>\n",
       "      <td>1.08557</td>\n",
       "      <td>1.08712</td>\n",
       "      <td>1.08519</td>\n",
       "      <td>1.08573</td>\n",
       "      <td>1.08726</td>\n",
       "      <td>1.08533</td>\n",
       "    </tr>\n",
       "    <tr>\n",
       "      <th>6</th>\n",
       "      <td>2023-01-27T18:00:00.000000000Z</td>\n",
       "      <td>3452</td>\n",
       "      <td>1.08665</td>\n",
       "      <td>1.08677</td>\n",
       "      <td>1.08564</td>\n",
       "      <td>1.08658</td>\n",
       "      <td>1.08671</td>\n",
       "      <td>1.08556</td>\n",
       "      <td>1.08672</td>\n",
       "      <td>1.08685</td>\n",
       "      <td>1.08571</td>\n",
       "    </tr>\n",
       "    <tr>\n",
       "      <th>7</th>\n",
       "      <td>2023-01-27T19:00:00.000000000Z</td>\n",
       "      <td>2813</td>\n",
       "      <td>1.08658</td>\n",
       "      <td>1.08724</td>\n",
       "      <td>1.08642</td>\n",
       "      <td>1.08651</td>\n",
       "      <td>1.08717</td>\n",
       "      <td>1.08635</td>\n",
       "      <td>1.08665</td>\n",
       "      <td>1.08732</td>\n",
       "      <td>1.08650</td>\n",
       "    </tr>\n",
       "    <tr>\n",
       "      <th>8</th>\n",
       "      <td>2023-01-27T20:00:00.000000000Z</td>\n",
       "      <td>1981</td>\n",
       "      <td>1.08686</td>\n",
       "      <td>1.08730</td>\n",
       "      <td>1.08642</td>\n",
       "      <td>1.08678</td>\n",
       "      <td>1.08723</td>\n",
       "      <td>1.08634</td>\n",
       "      <td>1.08694</td>\n",
       "      <td>1.08737</td>\n",
       "      <td>1.08648</td>\n",
       "    </tr>\n",
       "    <tr>\n",
       "      <th>9</th>\n",
       "      <td>2023-01-27T21:00:00.000000000Z</td>\n",
       "      <td>1385</td>\n",
       "      <td>1.08653</td>\n",
       "      <td>1.08695</td>\n",
       "      <td>1.08651</td>\n",
       "      <td>1.08646</td>\n",
       "      <td>1.08685</td>\n",
       "      <td>1.08643</td>\n",
       "      <td>1.08660</td>\n",
       "      <td>1.08716</td>\n",
       "      <td>1.08659</td>\n",
       "    </tr>\n",
       "  </tbody>\n",
       "</table>\n",
       "</div>"
      ],
      "text/plain": [
       "                             time  volume    mid_o    mid_h    mid_l    bid_o  \\\n",
       "0  2023-01-27T12:00:00.000000000Z    4142  1.08792  1.08808  1.08664  1.08785   \n",
       "1  2023-01-27T13:00:00.000000000Z    8206  1.08668  1.08778  1.08594  1.08660   \n",
       "2  2023-01-27T14:00:00.000000000Z   10729  1.08622  1.08769  1.08453  1.08614   \n",
       "3  2023-01-27T15:00:00.000000000Z   11955  1.08653  1.08792  1.08379  1.08641   \n",
       "4  2023-01-27T16:00:00.000000000Z    7433  1.08386  1.08674  1.08382  1.08380   \n",
       "5  2023-01-27T17:00:00.000000000Z    4626  1.08565  1.08719  1.08526  1.08557   \n",
       "6  2023-01-27T18:00:00.000000000Z    3452  1.08665  1.08677  1.08564  1.08658   \n",
       "7  2023-01-27T19:00:00.000000000Z    2813  1.08658  1.08724  1.08642  1.08651   \n",
       "8  2023-01-27T20:00:00.000000000Z    1981  1.08686  1.08730  1.08642  1.08678   \n",
       "9  2023-01-27T21:00:00.000000000Z    1385  1.08653  1.08695  1.08651  1.08646   \n",
       "\n",
       "     bid_h    bid_l    ask_o    ask_h    ask_l  \n",
       "0  1.08801  1.08657  1.08798  1.08816  1.08671  \n",
       "1  1.08771  1.08587  1.08675  1.08786  1.08601  \n",
       "2  1.08762  1.08445  1.08631  1.08776  1.08461  \n",
       "3  1.08784  1.08372  1.08665  1.08800  1.08386  \n",
       "4  1.08667  1.08375  1.08393  1.08682  1.08388  \n",
       "5  1.08712  1.08519  1.08573  1.08726  1.08533  \n",
       "6  1.08671  1.08556  1.08672  1.08685  1.08571  \n",
       "7  1.08717  1.08635  1.08665  1.08732  1.08650  \n",
       "8  1.08723  1.08634  1.08694  1.08737  1.08648  \n",
       "9  1.08685  1.08643  1.08660  1.08716  1.08659  "
      ]
     },
     "execution_count": 126,
     "metadata": {},
     "output_type": "execute_result"
    }
   ],
   "source": [
    "test_df"
   ]
  }
 ],
 "metadata": {
  "kernelspec": {
   "display_name": "venv",
   "language": "python",
   "name": "python3"
  },
  "language_info": {
   "codemirror_mode": {
    "name": "ipython",
    "version": 3
   },
   "file_extension": ".py",
   "mimetype": "text/x-python",
   "name": "python",
   "nbconvert_exporter": "python",
   "pygments_lexer": "ipython3",
   "version": "3.8.10"
  },
  "orig_nbformat": 4,
  "vscode": {
   "interpreter": {
    "hash": "b552e2ce3c66a40d23f384e56814e64f1a0d1d858be7971092a17e3e7ae30bfb"
   }
  }
 },
 "nbformat": 4,
 "nbformat_minor": 2
}
